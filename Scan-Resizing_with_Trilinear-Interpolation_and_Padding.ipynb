{
 "cells": [
  {
   "cell_type": "code",
   "execution_count": 1,
   "id": "d87e571d",
   "metadata": {},
   "outputs": [],
   "source": [
    "# Importing libraries\n",
    "import os\n",
    "import nibabel as nib\n",
    "import numpy as np\n",
    "import matplotlib.pyplot as plt\n",
    "from scipy.ndimage import zoom\n",
    "from scipy.ndimage import rotate"
   ]
  },
  {
   "cell_type": "markdown",
   "id": "eb4606c6",
   "metadata": {},
   "source": [
    "# Resizing scan using Trilinear Interpolation (order=1) and Padding"
   ]
  },
  {
   "cell_type": "code",
   "execution_count": 19,
   "id": "984bb30b",
   "metadata": {},
   "outputs": [],
   "source": [
    "# Loading nifti file\n",
    "nii_file = r\"C:\\Users\\anikd\\Desktop\\Registration\\MONAI_preprocessed\\NC_Temp\\f_CL_DEV_004_bet_reg_bc_norma.nii.gz\"\n",
    "img = nib.load(nii_file)\n",
    "data = img.get_fdata()\n",
    "\n",
    "# Defining the desired dimension\n",
    "#desired_dimensions = (128, 128, 128)\n",
    "desired_dimensions = (256, 256, 256)\n",
    "\n",
    "dim = (float(desired_dimensions[0]))\n",
    "\n",
    "# Calculating a common scaling factor based on the maximum dimension\n",
    "max_dimension = max(data.shape)\n",
    "scaling_factor = dim / max_dimension\n",
    "scaling_factors = [scaling_factor] * 3\n",
    "\n",
    "# Resizing the scan using trilinear interpolation\n",
    "resized_data = zoom(data, zoom=scaling_factors, order=1, mode='nearest')\n",
    "\n",
    "# Checking if the resized dimensions meet the expected size\n",
    "if resized_data.shape != desired_dimensions:\n",
    "    # If not, calculating the padding indices\n",
    "    pad_indices = [((new_dim - old_dim) // 2, (new_dim - old_dim) // 2 + (new_dim - old_dim) % 2) for old_dim, new_dim in zip(resized_data.shape, desired_dimensions)]\n",
    "\n",
    "    # Applying padding to the entire resized scan with zeros\n",
    "    resized_and_padded_data = np.pad(resized_data, (\n",
    "        (pad_indices[0][0], pad_indices[0][1]),\n",
    "        (pad_indices[1][0], pad_indices[1][1]),\n",
    "        (pad_indices[2][0], pad_indices[2][1])\n",
    "    ), mode='constant', constant_values=0)\n",
    "\n",
    "    # Creating a new nifit file with the resized and padded scan\n",
    "    resized_and_padded_img = nib.Nifti1Image(resized_and_padded_data, img.affine)\n",
    "\n",
    "    # Saving the resized and padded scan to the output directory\n",
    "    output_path = r\"C:\\Users\\anikd\\Desktop\\Registration\\Resized_MRI\\NC_Resized_MRI\"\n",
    "    nib.save(resized_and_padded_img, output_path + \"/\" + \"f_CL_DEV_004_bet_reg_bc_norma_resized_256x256x256_v2.nii.gz\")\n",
    "else:\n",
    "    # Creating nifti file directly if the resized dimensions already match the desired size\n",
    "    resized_img = nib.Nifti1Image(resized_data, img.affine)\n",
    "\n",
    "    # Saving file\n",
    "    output_path = r\"C:\\Users\\anikd\\Desktop\\Registration\\Resized_MRI\\NC_Resized_MRI\"\n",
    "    nib.save(resized_img, output_path + \"/\" + \"f_CL_DEV_004_bet_reg_bc_norma_resized_256x256x256_v2.nii.gz\")"
   ]
  }
 ],
 "metadata": {
  "kernelspec": {
   "display_name": "Python 3 (ipykernel)",
   "language": "python",
   "name": "python3"
  },
  "language_info": {
   "codemirror_mode": {
    "name": "ipython",
    "version": 3
   },
   "file_extension": ".py",
   "mimetype": "text/x-python",
   "name": "python",
   "nbconvert_exporter": "python",
   "pygments_lexer": "ipython3",
   "version": "3.9.16"
  }
 },
 "nbformat": 4,
 "nbformat_minor": 5
}
