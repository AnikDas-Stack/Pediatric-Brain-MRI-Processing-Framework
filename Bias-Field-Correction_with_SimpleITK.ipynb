{
 "cells": [
  {
   "cell_type": "code",
   "execution_count": 1,
   "id": "389faab1",
   "metadata": {},
   "outputs": [],
   "source": [
    "# Importing libraries\n",
    "\n",
    "import os\n",
    "import nibabel as nib\n",
    "import SimpleITK as sitk"
   ]
  },
  {
   "cell_type": "code",
   "execution_count": 2,
   "id": "8f03c575",
   "metadata": {},
   "outputs": [],
   "source": [
    "# Bias Field Correction\n",
    "\n",
    "PAE_input_dir = r\"C:\\Users\\anikd\\Desktop\\Registration\\PAE_REG_MRI\"\n",
    "PAE_output_dir = r\"C:\\Users\\anikd\\Desktop\\Registration\\Bias_Corrected\\PAE_Bias_Corrected\"\n",
    "\n",
    "for file in os.listdir(PAE_input_dir):\n",
    "    mri = sitk.ReadImage(PAE_input_dir + \"/\" + file)\n",
    "    mri = sitk.Cast(mri, sitk.sitkFloat32)\n",
    "    \n",
    "    bias_corrected_mri = sitk.N4BiasFieldCorrection(mri)\n",
    "    \n",
    "    mri_name = file.split(\".nii.gz\")[0]\n",
    "    \n",
    "    sitk.WriteImage(bias_corrected_mri, PAE_output_dir + \"/\" + mri_name + \"_bc.nii.gz\")"
   ]
  }
 ],
 "metadata": {
  "kernelspec": {
   "display_name": "Python 3 (ipykernel)",
   "language": "python",
   "name": "python3"
  },
  "language_info": {
   "codemirror_mode": {
    "name": "ipython",
    "version": 3
   },
   "file_extension": ".py",
   "mimetype": "text/x-python",
   "name": "python",
   "nbconvert_exporter": "python",
   "pygments_lexer": "ipython3",
   "version": "3.9.16"
  }
 },
 "nbformat": 4,
 "nbformat_minor": 5
}
