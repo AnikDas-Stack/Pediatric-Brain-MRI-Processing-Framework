{
 "cells": [
  {
   "cell_type": "code",
   "execution_count": 1,
   "id": "389faab1",
   "metadata": {},
   "outputs": [],
   "source": [
    "# Importing libraries\n",
    "\n",
    "import os\n",
    "import nibabel as nib\n",
    "import monai\n",
    "from monai.transforms import (Compose, LoadImaged, ScaleIntensityd, SaveImaged)\n",
    "from monai.utils import set_determinism\n",
    "set_determinism(seed=0)"
   ]
  },
  {
   "cell_type": "code",
   "execution_count": 4,
   "id": "c378f9fe",
   "metadata": {},
   "outputs": [
    {
     "name": "stdout",
     "output_type": "stream",
     "text": [
      "2023-09-25 14:45:54,374 INFO image_writer.py:194 - writing: C:\\Users\\anikd\\Desktop\\Registration\\MONAI_preprocessed\\PAE_MONAI_preprocessed\\Ae16-001_PUAx_FSPGR_BRAVO_09mm_ART_500_bet_reg_bc_norma.nii.gz\n",
      "2023-09-25 14:45:54,652 INFO image_writer.py:194 - writing: C:\\Users\\anikd\\Desktop\\Registration\\MONAI_preprocessed\\PAE_MONAI_preprocessed\\Ae16-003_PUAx_FSPGR_BRAVO_09mm_ART_500_bet_reg_bc_norma.nii.gz\n",
      "2023-09-25 14:45:54,903 INFO image_writer.py:194 - writing: C:\\Users\\anikd\\Desktop\\Registration\\MONAI_preprocessed\\PAE_MONAI_preprocessed\\Ae16-004_PUAx_FSPGR_BRAVO_09mm_ART_500_bet_reg_bc_norma.nii.gz\n",
      "2023-09-25 14:45:55,177 INFO image_writer.py:194 - writing: C:\\Users\\anikd\\Desktop\\Registration\\MONAI_preprocessed\\PAE_MONAI_preprocessed\\Ae16-005_PUAx_FSPGR_BRAVO_09mm_ART_500_bet_reg_bc_norma.nii.gz\n",
      "2023-09-25 14:45:55,523 INFO image_writer.py:194 - writing: C:\\Users\\anikd\\Desktop\\Registration\\MONAI_preprocessed\\PAE_MONAI_preprocessed\\Ae16-006_PUAx_FSPGR_BRAVO_09mm_ART_500_bet_reg_bc_norma.nii.gz\n",
      "2023-09-25 14:45:55,779 INFO image_writer.py:194 - writing: C:\\Users\\anikd\\Desktop\\Registration\\MONAI_preprocessed\\PAE_MONAI_preprocessed\\Ae16-007_PUAx_FSPGR_BRAVO_09mm_ART_500_bet_reg_bc_norma.nii.gz\n",
      "2023-09-25 14:45:56,054 INFO image_writer.py:194 - writing: C:\\Users\\anikd\\Desktop\\Registration\\MONAI_preprocessed\\PAE_MONAI_preprocessed\\Ae17-011_PUAx_FSPGR_BRAVO_09mm_ART_600_bet_reg_bc_norma.nii.gz\n",
      "2023-09-25 14:45:56,328 INFO image_writer.py:194 - writing: C:\\Users\\anikd\\Desktop\\Registration\\MONAI_preprocessed\\PAE_MONAI_preprocessed\\Ae17-012_PUAx_FSPGR_BRAVO_09mm_ART_400_bet_reg_bc_norma.nii.gz\n",
      "2023-09-25 14:45:56,622 INFO image_writer.py:194 - writing: C:\\Users\\anikd\\Desktop\\Registration\\MONAI_preprocessed\\PAE_MONAI_preprocessed\\Ae17-014_PUAx_FSPGR_BRAVO_09mm_ART_400_bet_reg_bc_norma.nii.gz\n",
      "2023-09-25 14:45:56,869 INFO image_writer.py:194 - writing: C:\\Users\\anikd\\Desktop\\Registration\\MONAI_preprocessed\\PAE_MONAI_preprocessed\\Ae17-015_PUAx_FSPGR_BRAVO_09mm_ART_400_bet_reg_bc_norma.nii.gz\n",
      "2023-09-25 14:45:57,155 INFO image_writer.py:194 - writing: C:\\Users\\anikd\\Desktop\\Registration\\MONAI_preprocessed\\PAE_MONAI_preprocessed\\Ae17-016_PUAx_FSPGR_BRAVO_09mm_ART_400_bet_reg_bc_norma.nii.gz\n",
      "2023-09-25 14:45:57,471 INFO image_writer.py:194 - writing: C:\\Users\\anikd\\Desktop\\Registration\\MONAI_preprocessed\\PAE_MONAI_preprocessed\\Ae17-017_PUAx_FSPGR_BRAVO_09mm_ART_700_bet_reg_bc_norma.nii.gz\n",
      "2023-09-25 14:45:57,779 INFO image_writer.py:194 - writing: C:\\Users\\anikd\\Desktop\\Registration\\MONAI_preprocessed\\PAE_MONAI_preprocessed\\Ae17-018_PUAx_FSPGR_BRAVO_09mm_ART_700_bet_reg_bc_norma.nii.gz\n",
      "2023-09-25 14:45:58,063 INFO image_writer.py:194 - writing: C:\\Users\\anikd\\Desktop\\Registration\\MONAI_preprocessed\\PAE_MONAI_preprocessed\\Ae17-020_PUAx_FSPGR_BRAVO_09mm_ART_500_bet_reg_bc_norma.nii.gz\n",
      "2023-09-25 14:45:58,367 INFO image_writer.py:194 - writing: C:\\Users\\anikd\\Desktop\\Registration\\MONAI_preprocessed\\PAE_MONAI_preprocessed\\Ae17-021_PUAx_FSPGR_BRAVO_09mm_ART_500_bet_reg_bc_norma.nii.gz\n",
      "2023-09-25 14:45:58,633 INFO image_writer.py:194 - writing: C:\\Users\\anikd\\Desktop\\Registration\\MONAI_preprocessed\\PAE_MONAI_preprocessed\\Ae17-022_PUAx_FSPGR_BRAVO_09mm_ART_500_bet_reg_bc_norma.nii.gz\n",
      "2023-09-25 14:45:58,893 INFO image_writer.py:194 - writing: C:\\Users\\anikd\\Desktop\\Registration\\MONAI_preprocessed\\PAE_MONAI_preprocessed\\Ae17-023_PUAx_FSPGR_BRAVO_09mm_ART_500_bet_reg_bc_norma.nii.gz\n",
      "2023-09-25 14:45:59,174 INFO image_writer.py:194 - writing: C:\\Users\\anikd\\Desktop\\Registration\\MONAI_preprocessed\\PAE_MONAI_preprocessed\\AE17-024_PUAx_FSPGR_BRAVO_09mm_ART_500_synthstrip_ss_reg_bc_norma.nii.gz\n",
      "2023-09-25 14:45:59,483 INFO image_writer.py:194 - writing: C:\\Users\\anikd\\Desktop\\Registration\\MONAI_preprocessed\\PAE_MONAI_preprocessed\\Ae17-025_PUAx_FSPGR_BRAVO_09mm_ART_500_bet_reg_bc_norma.nii.gz\n",
      "2023-09-25 14:45:59,782 INFO image_writer.py:194 - writing: C:\\Users\\anikd\\Desktop\\Registration\\MONAI_preprocessed\\PAE_MONAI_preprocessed\\Ae17-026_PUAx_FSPGR_BRAVO_09mm_ART_400_bet_reg_bc_norma.nii.gz\n",
      "2023-09-25 14:46:00,078 INFO image_writer.py:194 - writing: C:\\Users\\anikd\\Desktop\\Registration\\MONAI_preprocessed\\PAE_MONAI_preprocessed\\Ae17-030_PUAx_FSPGR_BRAVO_09mm_ART_600_bet_reg_bc_norma.nii.gz\n",
      "2023-09-25 14:46:00,394 INFO image_writer.py:194 - writing: C:\\Users\\anikd\\Desktop\\Registration\\MONAI_preprocessed\\PAE_MONAI_preprocessed\\Ae17-031_PUAx_FSPGR_BRAVO_09mm_ART_400_bet_reg_bc_norma.nii.gz\n",
      "2023-09-25 14:46:00,646 INFO image_writer.py:194 - writing: C:\\Users\\anikd\\Desktop\\Registration\\MONAI_preprocessed\\PAE_MONAI_preprocessed\\Ae17-032_PUAx_FSPGR_BRAVO_09mm_ART_700_bet_reg_bc_norma.nii.gz\n",
      "2023-09-25 14:46:00,930 INFO image_writer.py:194 - writing: C:\\Users\\anikd\\Desktop\\Registration\\MONAI_preprocessed\\PAE_MONAI_preprocessed\\Ae17-035_PUAx_FSPGR_BRAVO_09mm_ART_500_bet_reg_bc_norma.nii.gz\n",
      "2023-09-25 14:46:01,231 INFO image_writer.py:194 - writing: C:\\Users\\anikd\\Desktop\\Registration\\MONAI_preprocessed\\PAE_MONAI_preprocessed\\Ae17-036_PUAx_FSPGR_BRAVO_09mm_ART_500_bet_reg_bc_norma.nii.gz\n",
      "2023-09-25 14:46:01,487 INFO image_writer.py:194 - writing: C:\\Users\\anikd\\Desktop\\Registration\\MONAI_preprocessed\\PAE_MONAI_preprocessed\\Ae17-037_PUAx_FSPGR_BRAVO_09mm_ART_600_bet_reg_bc_norma.nii.gz\n",
      "2023-09-25 14:46:01,773 INFO image_writer.py:194 - writing: C:\\Users\\anikd\\Desktop\\Registration\\MONAI_preprocessed\\PAE_MONAI_preprocessed\\Ae17-038_PUAx_FSPGR_BRAVO_09mm_ART_500_bet_reg_bc_norma.nii.gz\n",
      "2023-09-25 14:46:02,050 INFO image_writer.py:194 - writing: C:\\Users\\anikd\\Desktop\\Registration\\MONAI_preprocessed\\PAE_MONAI_preprocessed\\Ae17-039_PUAx_FSPGR_BRAVO_09mm_ART_500_bet_reg_bc_norma.nii.gz\n",
      "2023-09-25 14:46:02,328 INFO image_writer.py:194 - writing: C:\\Users\\anikd\\Desktop\\Registration\\MONAI_preprocessed\\PAE_MONAI_preprocessed\\Ae17-040_PUAx_FSPGR_BRAVO_09mm_ART_400_bet_reg_bc_norma.nii.gz\n",
      "2023-09-25 14:46:02,593 INFO image_writer.py:194 - writing: C:\\Users\\anikd\\Desktop\\Registration\\MONAI_preprocessed\\PAE_MONAI_preprocessed\\Ae17-048_PUAx_FSPGR_BRAVO_09mm_ART_500_synthstrip_ss_reg_bc_norma.nii.gz\n"
     ]
    }
   ],
   "source": [
    "# Min-Max Normalization using MONAI\n",
    "\n",
    "PAE_input_dir = r\"C:\\Users\\anikd\\Desktop\\Registration\\Bias_Corrected\\PAE_Bias_Corrected\"\n",
    "PAE_output_dir = r\"C:\\Users\\anikd\\Desktop\\Registration\\MONAI_preprocessed\\PAE_MONAI_preprocessed\"\n",
    "\n",
    "transform = Compose([\n",
    "    LoadImaged(keys=[\"mri\"]),\n",
    "    ScaleIntensityd(keys=[\"mri\"], minv=0.0, maxv=1.0),\n",
    "    SaveImaged(keys=[\"mri\"], output_dir=PAE_output_dir, output_postfix=\"norma\", output_ext=\".nii.gz\", separate_folder=False)\n",
    "])\n",
    "\n",
    "for file in os.listdir(PAE_input_dir):\n",
    "    file_path = PAE_input_dir + \"/\" + file\n",
    "    \n",
    "    transform({\"mri\" : file_path})"
   ]
  }
 ],
 "metadata": {
  "kernelspec": {
   "display_name": "Python 3 (ipykernel)",
   "language": "python",
   "name": "python3"
  },
  "language_info": {
   "codemirror_mode": {
    "name": "ipython",
    "version": 3
   },
   "file_extension": ".py",
   "mimetype": "text/x-python",
   "name": "python",
   "nbconvert_exporter": "python",
   "pygments_lexer": "ipython3",
   "version": "3.9.16"
  }
 },
 "nbformat": 4,
 "nbformat_minor": 5
}
